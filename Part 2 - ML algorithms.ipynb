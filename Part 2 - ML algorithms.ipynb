{
 "cells": [
  {
   "cell_type": "markdown",
   "id": "raising-omaha",
   "metadata": {},
   "source": [
    "# Machine Learning Models"
   ]
  },
  {
   "cell_type": "code",
   "execution_count": 1,
   "id": "accessory-barcelona",
   "metadata": {},
   "outputs": [],
   "source": [
    "import pandas as pd\n",
    "\n",
    "# sklearn 10FCV\n",
    "from sklearn.model_selection import KFold\n",
    "from sklearn.model_selection import cross_val_score\n",
    "from sklearn.model_selection import cross_val_predict\n",
    "\n",
    "# Classification report\n",
    "from sklearn.metrics import classification_report\n"
   ]
  },
  {
   "cell_type": "markdown",
   "id": "perceived-municipality",
   "metadata": {},
   "source": [
    "## Naive Bayes"
   ]
  },
  {
   "cell_type": "code",
   "execution_count": 3,
   "id": "encouraging-pathology",
   "metadata": {},
   "outputs": [
    {
     "name": "stdout",
     "output_type": "stream",
     "text": [
      "Naive Bayes:\n",
      "------------------------------------\n",
      "\n",
      "              precision    recall  f1-score   support\n",
      "\n",
      "         0.0       0.69      0.83      0.75      9562\n",
      "         1.0       0.46      0.29      0.35      4908\n",
      "\n",
      "    accuracy                           0.64     14470\n",
      "   macro avg       0.58      0.56      0.55     14470\n",
      "weighted avg       0.61      0.64      0.62     14470\n",
      "\n"
     ]
    }
   ],
   "source": [
    "from sklearn.naive_bayes import GaussianNB\n",
    "\n",
    "filename = 'Delivery_cleaned_attributes_space.csv'\n",
    "\n",
    "colNames = [\n",
    "'PN',\n",
    "'TSLED',\n",
    "'noDelExp',\n",
    "'price',\n",
    "'class',\n",
    "]\n",
    "\n",
    "data = pd.read_csv(filename, delim_whitespace=True, names=colNames)\n",
    "array = data.values\n",
    "\n",
    "X = array[:,0:4]\n",
    "Y = array[:,4]\n",
    "\n",
    "num_folds = 10\n",
    "seed = 1\n",
    "\n",
    "print(\"Naive Bayes:\\n------------------------------------\")\n",
    "kfold = KFold(n_splits=num_folds)\n",
    "model = GaussianNB()\n",
    "\n",
    "print(\"\")\n",
    "# over all classification report\n",
    "y_pred = cross_val_predict(model, X, Y, cv=10)\n",
    "report = classification_report(Y, y_pred)\n",
    "print(report)"
   ]
  },
  {
   "cell_type": "markdown",
   "id": "pressing-southwest",
   "metadata": {},
   "source": [
    "## Decision Tree"
   ]
  },
  {
   "cell_type": "code",
   "execution_count": 4,
   "id": "married-preliminary",
   "metadata": {},
   "outputs": [
    {
     "name": "stdout",
     "output_type": "stream",
     "text": [
      "Decision Tree:\n",
      "------------------------------------\n",
      "\n",
      "              precision    recall  f1-score   support\n",
      "\n",
      "         0.0       0.35      0.21      0.26      9562\n",
      "         1.0       0.13      0.22      0.16      4908\n",
      "\n",
      "    accuracy                           0.22     14470\n",
      "   macro avg       0.24      0.22      0.21     14470\n",
      "weighted avg       0.27      0.22      0.23     14470\n",
      "\n"
     ]
    }
   ],
   "source": [
    "from pandas import read_csv\n",
    "\n",
    "from sklearn.tree import DecisionTreeClassifier\n",
    "from sklearn import tree\n",
    "import matplotlib.pyplot as plt\n",
    "\n",
    "filename = 'Delivery_cleaned_attributes.csv'\n",
    "\n",
    "colNames = [\n",
    "'PN',\n",
    "'TSLED',\n",
    "'noDelExp',\n",
    "'price',\n",
    "'class',\n",
    "]\n",
    "\n",
    "dataframe = read_csv(filename, names=colNames)\n",
    "array = dataframe.values\n",
    "\n",
    "X = array[:,0:4]\n",
    "Y = array[:,4]\n",
    "\n",
    "# Folds and seed`23\n",
    "num_folds = 10\n",
    "seed = 1\n",
    "\n",
    "# Initial test\n",
    "print(\"Decision Tree:\\n------------------------------------\")\n",
    "kfold = KFold(n_splits=num_folds)\n",
    "model = DecisionTreeClassifier()\n",
    "\n",
    "print(\"\")\n",
    "# over all classification report\n",
    "y_pred = cross_val_predict(model, X, Y, cv=10)\n",
    "report = classification_report(Y, y_pred)\n",
    "print(report)\n"
   ]
  },
  {
   "cell_type": "markdown",
   "id": "unauthorized-exhaust",
   "metadata": {},
   "source": [
    "## Support Vector Machines"
   ]
  },
  {
   "cell_type": "code",
   "execution_count": 9,
   "id": "standing-anaheim",
   "metadata": {},
   "outputs": [
    {
     "name": "stdout",
     "output_type": "stream",
     "text": [
      "SVM:\n",
      "------------------------------------\n"
     ]
    },
    {
     "name": "stderr",
     "output_type": "stream",
     "text": [
      "C:\\Users\\z003ppjc\\Anaconda3\\lib\\site-packages\\sklearn\\svm\\_base.py:976: ConvergenceWarning: Liblinear failed to converge, increase the number of iterations.\n",
      "  warnings.warn(\"Liblinear failed to converge, increase \"\n",
      "C:\\Users\\z003ppjc\\Anaconda3\\lib\\site-packages\\sklearn\\svm\\_base.py:976: ConvergenceWarning: Liblinear failed to converge, increase the number of iterations.\n",
      "  warnings.warn(\"Liblinear failed to converge, increase \"\n"
     ]
    },
    {
     "name": "stdout",
     "output_type": "stream",
     "text": [
      "\n",
      "              precision    recall  f1-score   support\n",
      "\n",
      "         0.0       0.67      0.97      0.79      9562\n",
      "         1.0       0.49      0.05      0.09      4908\n",
      "\n",
      "    accuracy                           0.66     14470\n",
      "   macro avg       0.58      0.51      0.44     14470\n",
      "weighted avg       0.61      0.66      0.55     14470\n",
      "\n"
     ]
    }
   ],
   "source": [
    "from sklearn.model_selection import cross_val_score\n",
    "from sklearn import svm\n",
    "from sklearn.model_selection import train_test_split\n",
    "\n",
    "filename = 'Delivery_cleaned_attributes.csv'\n",
    "\n",
    "colNames = [\n",
    "'PN',\n",
    "'TSLED',\n",
    "'noDelExp',\n",
    "'price',\n",
    "'class',\n",
    "]\n",
    "\n",
    "dataframe = read_csv(filename, names=colNames)\n",
    "array = dataframe.values\n",
    "\n",
    "X = array[:,0:4]\n",
    "Y = array[:,4]\n",
    "\n",
    "# Normalize the attributes\n",
    "norX = X / X.max(axis=0)\n",
    "\n",
    "# Folds and seed\n",
    "num_folds = 10\n",
    "seed = 1\n",
    "\n",
    "\n",
    "print(\"SVM:\\n------------------------------------\")\n",
    "kfold = KFold(n_splits=num_folds)\n",
    "model = svm.LinearSVR()\n",
    "results = cross_val_score(model, norX, Y, cv=kfold)\n",
    "\n",
    "print(\"\")\n",
    "# over all classification report\n",
    "y_pred = cross_val_predict(model, norX, Y)\n",
    "report = classification_report(Y, y_pred.round())\n",
    "print(report)"
   ]
  },
  {
   "cell_type": "code",
   "execution_count": null,
   "id": "geographic-dynamics",
   "metadata": {},
   "outputs": [],
   "source": []
  }
 ],
 "metadata": {
  "kernelspec": {
   "display_name": "Python 3",
   "language": "python",
   "name": "python3"
  },
  "language_info": {
   "codemirror_mode": {
    "name": "ipython",
    "version": 3
   },
   "file_extension": ".py",
   "mimetype": "text/x-python",
   "name": "python",
   "nbconvert_exporter": "python",
   "pygments_lexer": "ipython3",
   "version": "3.7.10"
  }
 },
 "nbformat": 4,
 "nbformat_minor": 5
}
